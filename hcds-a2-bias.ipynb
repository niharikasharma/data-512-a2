{
 "cells": [
  {
   "cell_type": "markdown",
   "metadata": {},
   "source": [
    "# A2 : Bias on Wikipedia\n",
    "Objective :  Analyze what the nature of political articles on Wikipedia tell us about bias in Wikipedia's content.\n",
    "\n",
    "Author : Niharika Sharma \n",
    "\n",
    "References : \n",
    "1. https://figshare.com/articles/Untitled_Item/5513449\n",
    "2. https://wiki.communitydata.cc/HCDS_(Fall_2017)/Assignments#A2:_Bias_in_data\n",
    "3. http://www.prb.org/DataFinder/Topic/Rankings.aspx?ind=14\n",
    "4. https://www.mediawiki.org/wiki/ORES\n",
    "\n",
    "### Import all the libraries"
   ]
  },
  {
   "cell_type": "code",
   "execution_count": 1,
   "metadata": {
    "collapsed": true
   },
   "outputs": [],
   "source": [
    "# import all the libraries - Set up \n",
    "import requests\n",
    "import json\n",
    "import csv\n",
    "import pandas as pd\n",
    "import numpy as np\n",
    "import matplotlib.pyplot as plt\n"
   ]
  },
  {
   "cell_type": "markdown",
   "metadata": {},
   "source": [
    "### Making ORES requests\n",
    "The function makes a request with multiple revision IDs."
   ]
  },
  {
   "cell_type": "code",
   "execution_count": 2,
   "metadata": {
    "collapsed": false
   },
   "outputs": [],
   "source": [
    "headers = {'User-Agent' : 'https://github.com/niharikasharma', 'From' : 'njsharma@uw.edu'}\n",
    "\n",
    "def get_ores_data(revision_ids, headers):\n",
    "    \n",
    "    # Define the endpoint\n",
    "    endpoint = 'https://ores.wikimedia.org/v3/scores/{project}/?models={model}&revids={revids}'\n",
    "    \n",
    "    # Specify the parameters - smushing all the revision IDs together separated by | marks.\n",
    "    # Yes, 'smush' is a technical term, trust me I'm a scientist.\n",
    "    # What do you mean \"but people trusting scientists regularly goes horribly wrong\" who taught you tha- oh.  \n",
    "    params = {'project' : 'enwiki',\n",
    "              'model'   : 'wp10',\n",
    "              'revids'  : '|'.join(str(x) for x in revision_ids)\n",
    "              }\n",
    "    api_call = requests.get(endpoint.format(**params))\n",
    "    response = api_call.json()\n",
    "    return json.dumps(response, indent=4, sort_keys=True)\n"
   ]
  },
  {
   "cell_type": "markdown",
   "metadata": {},
   "source": [
    "### Getting article quality predictions\n",
    "Importing the other data from page_data.csv and calling the get_ores_data function. We are appending 100 revision_ids and then calling the get_ores_data function in batch form.\n",
    "ORES API returns the quality of an article and a series of probabilities for each of the quality. There are 6 article qualities as follows:\n",
    "1. FA - Featured article\n",
    "2. GA - Good article\n",
    "3. B - B-class article\n",
    "4. C - C-class article\n",
    "5. Start - Start-class article\n",
    "6. Stub - Stub-class article"
   ]
  },
  {
   "cell_type": "code",
   "execution_count": 3,
   "metadata": {
    "collapsed": false
   },
   "outputs": [
    {
     "name": "stdout",
     "output_type": "stream",
     "text": [
      "RevisionNotFound: Could not find revision ({revision}:806811023)\n",
      "RevisionNotFound: Could not find revision ({revision}:807367166)\n",
      "RevisionNotFound: Could not find revision ({revision}:807367030)\n",
      "RevisionNotFound: Could not find revision ({revision}:807484325)\n",
      "(47193, 2)\n"
     ]
    }
   ],
   "source": [
    "i = 0\n",
    "ids = []\n",
    "\n",
    "revision_id = []\n",
    "article_quality = []\n",
    "\n",
    "with open('data/page_data.csv') as csvfile:\n",
    "    # Skip first line (if any)\n",
    "    next(csvfile, None)\n",
    "    reader = csv.reader(csvfile)\n",
    "    for row in reader:\n",
    "        ids.append(row[2])\n",
    "        i = i + 1\n",
    "        if i == 100:\n",
    "            # batch of 100 revision_ids\n",
    "            i = 0\n",
    "            # call the function\n",
    "            result = get_ores_data(ids, headers)\n",
    "            # load the result as JSON\n",
    "            data = json.loads(result)\n",
    "            for d in data['enwiki']['scores']:\n",
    "                try:\n",
    "                    article_quality.append(data['enwiki']['scores'][d]['wp10']['score']['prediction'])\n",
    "                    revision_id.append(d)\n",
    "                except KeyError:\n",
    "                    print(data['enwiki']['scores'][d]['wp10']['error']['message'])\n",
    "            ids = []\n",
    "    if len(ids) != 0:\n",
    "            result = get_ores_data(ids, headers)\n",
    "            # load the result as JSON\n",
    "            data = json.loads(result)\n",
    "            for d in data['enwiki']['scores']:\n",
    "                try:\n",
    "                    article_quality.append(data['enwiki']['scores'][d]['wp10']['score']['prediction'])\n",
    "                    revision_id.append(d)\n",
    "                except KeyError:\n",
    "                    print(data['enwiki']['scores'][d]['wp10']['error']['message'])\n",
    "\n",
    "# Store the ORES data into dataframe\n",
    "df_ores = pd.DataFrame(\n",
    "    {'revision_id': revision_id,\n",
    "     'article_quality': article_quality\n",
    "    })\n",
    "\n",
    "print(df_ores.shape)"
   ]
  },
  {
   "cell_type": "markdown",
   "metadata": {},
   "source": [
    "### Combining the datasets\n",
    "Merging the ORES API data, page_data.csv and Population Mid-2015.csv, and excluding ids with no prediction."
   ]
  },
  {
   "cell_type": "code",
   "execution_count": 4,
   "metadata": {
    "collapsed": false
   },
   "outputs": [
    {
     "name": "stdout",
     "output_type": "stream",
     "text": [
      "Index(['article_quality', 'revision_id', 'article_name', 'country',\n",
      "       'population'],\n",
      "      dtype='object')\n",
      "(45795, 5)\n"
     ]
    }
   ],
   "source": [
    "# page data\n",
    "df_page = pd.read_csv('data/page_data.csv', names=['page', 'country', 'rev_id'])\n",
    "# Join the tables using left join as we want to exclude the revision ids with no prediction \n",
    "df_wikipedia = pd.merge(df_ores, df_page, how = 'left', left_on = 'revision_id', right_on = 'rev_id')\n",
    "\n",
    "# merge wikipedia and population data\n",
    "df_pop = pd.read_csv('data/Population Mid-2015.csv', skiprows=[0, 1, 2], names=['Location','Location Type','TimeFrame','Data Type','Data','Footnotes'])\n",
    "\n",
    "# inner join so that we can remove the rows that do not have matching data\n",
    "df_final = pd.merge(df_wikipedia, df_pop, how = 'inner', left_on = 'country', right_on = 'Location')\n",
    "\n",
    "# delete unwanted columns\n",
    "columns = ['Location Type','TimeFrame','Data Type','Footnotes', 'rev_id', 'Location']\n",
    "df_final = df_final.drop(columns, axis=1)\n",
    "\n",
    "# rename columns\n",
    "df_final = df_final.rename(columns={'page': 'article_name', 'Data': 'population'})\n",
    "print(df_final.columns)\n",
    "print(df_final.shape)"
   ]
  },
  {
   "cell_type": "markdown",
   "metadata": {},
   "source": [
    "### Consolidate the remaining data into a single CSV file\n",
    "\n",
    "Finally, saving the dataframe in final-data.csv. The headers of the file are as follows:\n",
    "\n",
    "#### Column  \n",
    "country  \n",
    "article_name  \n",
    "revision_id  \n",
    "article_quality  \n",
    "population"
   ]
  },
  {
   "cell_type": "code",
   "execution_count": 5,
   "metadata": {
    "collapsed": false
   },
   "outputs": [
    {
     "name": "stdout",
     "output_type": "stream",
     "text": [
      "0    11211064\n",
      "1    11211064\n",
      "2    11211064\n",
      "3    11211064\n",
      "4    11211064\n",
      "Name: population, dtype: int64\n"
     ]
    }
   ],
   "source": [
    "# convert population to int\n",
    "df_final[\"population\"] = df_final[\"population\"].apply(lambda x: int(x.replace(',', '')))\n",
    "print(df_final[\"population\"].head())\n",
    "# save the final dataframe into csv\n",
    "df_final.to_csv('data/final-data.csv', sep=',', encoding='utf-8', index=False)"
   ]
  },
  {
   "cell_type": "markdown",
   "metadata": {},
   "source": [
    "### Analysis\n",
    "Calculating the proportion (as a percentage) of articles-per-population articles for each country."
   ]
  },
  {
   "cell_type": "code",
   "execution_count": 6,
   "metadata": {
    "collapsed": false
   },
   "outputs": [
    {
     "name": "stdout",
     "output_type": "stream",
     "text": [
      "       country  revision_id  population   percent\n",
      "0  Afghanistan          327    32247000  0.001014\n",
      "1      Albania          460     2892000  0.015906\n",
      "2      Algeria          119    39948000  0.000298\n",
      "3      Andorra           34       78000  0.043590\n",
      "4       Angola          110    25000000  0.000440\n"
     ]
    }
   ],
   "source": [
    "# articles-per-population for each country data\n",
    "df = pd.read_csv('data/final-data.csv')\n",
    "\n",
    "\n",
    "grouped = df.groupby(['country'])\n",
    "df_articles_per_population = grouped.agg({'revision_id' : 'count', 'population' : np.mean}).reset_index()\n",
    "df_articles_per_population['percent'] = 100.00*df_articles_per_population['revision_id']/df_articles_per_population['population']\n",
    "print(df_articles_per_population.head())"
   ]
  },
  {
   "cell_type": "markdown",
   "metadata": {},
   "source": [
    "### Analysis\n",
    "Calculating the proportion (as a percentage) of high-quality articles for each country."
   ]
  },
  {
   "cell_type": "code",
   "execution_count": 7,
   "metadata": {
    "collapsed": false
   },
   "outputs": [
    {
     "name": "stdout",
     "output_type": "stream",
     "text": [
      "       country   percent\n",
      "0  Afghanistan  4.587156\n",
      "1      Albania  1.086957\n",
      "2      Algeria  1.680672\n",
      "3       Angola  0.909091\n",
      "4    Argentina  3.427419\n"
     ]
    }
   ],
   "source": [
    "# High-quality articles for each country\n",
    "\n",
    "df_high_quality = df.groupby(['country', 'article_quality']).agg({'revision_id' : 'count'})\n",
    "# quality percentage per category\n",
    "df_high_quality['percent'] = df_high_quality.groupby(level=0).apply(lambda x: 100.0 * x / x.sum())\n",
    "df_high_quality = df_high_quality.reset_index()\n",
    "# remove data other than FA and GA\n",
    "df_high_quality = df_high_quality[(df_high_quality[\"article_quality\"] == 'FA') | (df_high_quality[\"article_quality\"] == 'GA')]\n",
    "df_high_quality = df_high_quality.groupby(['country']).agg({'percent' : 'sum'}).reset_index()\n",
    "print(df_high_quality.head())"
   ]
  },
  {
   "cell_type": "markdown",
   "metadata": {},
   "source": [
    "### Tables and Visualizations \n",
    "#### 10 highest-ranked countries in terms of number of politician articles as a proportion of country population"
   ]
  },
  {
   "cell_type": "code",
   "execution_count": 8,
   "metadata": {
    "collapsed": false
   },
   "outputs": [
    {
     "name": "stdout",
     "output_type": "stream",
     "text": [
      "   index                         country  revision_id  population   percent\n",
      "0    120                           Nauru           53       10860  0.488029\n",
      "1    173                          Tuvalu           55       11800  0.466102\n",
      "2    141                      San Marino           82       33000  0.248485\n",
      "3    113                          Monaco           40       38088  0.105020\n",
      "4     97                   Liechtenstein           29       37570  0.077189\n",
      "5    107                Marshall Islands           37       55000  0.067273\n",
      "6     72                         Iceland          206      330828  0.062268\n",
      "7    168                           Tonga           63      103300  0.060987\n",
      "8      3                         Andorra           34       78000  0.043590\n",
      "9     54  Federated States of Micronesia           38      103000  0.036893\n"
     ]
    },
    {
     "data": {
      "image/png": "[encoded data removed]",
      "text/plain": [
       "<matplotlib.figure.Figure at 0x113b2edd8>"
      ]
     },
     "metadata": {},
     "output_type": "display_data"
    }
   ],
   "source": [
    "# 10 highest-ranked countries in terms of number of politician articles as a proportion of country population\n",
    "viz1 = df_articles_per_population.sort_values(by=['percent'], ascending=[0]).head(10).reset_index()\n",
    "print(viz1)\n",
    "fig = plt.figure(figsize=(17,8))\n",
    "plt.xticks(fontsize=9)  \n",
    "plt.yticks(fontsize=9) \n",
    "ax = fig.add_subplot(111)\n",
    "ax.bar(viz1.index, viz1.percent, width=0.8)\n",
    "ax.set_xticks(viz1.index)\n",
    "ax.set_xticklabels(viz1.country)\n",
    "ax.set_xlabel(\"Countries\", fontsize=10)\n",
    "ax.set_ylabel(\"Percentage\", fontsize=10)\n",
    "ax.set_title(\"Highest-ranked countries in terms of number of politician articles as a proportion of country population\", fontsize=10)\n",
    "plt.show()\n",
    "# Generate a .png formatted image of the final graph\n",
    "fig.savefig('highest_ranked_countries_number_of_politians_per_article.png')"
   ]
  },
  {
   "cell_type": "markdown",
   "metadata": {},
   "source": [
    "#### 10 lowest-ranked countries in terms of number of politician articles as a proportion of country population"
   ]
  },
  {
   "cell_type": "code",
   "execution_count": 9,
   "metadata": {
    "collapsed": false
   },
   "outputs": [
    {
     "name": "stdout",
     "output_type": "stream",
     "text": [
      "   index              country  revision_id  population   percent\n",
      "0     73                India          989  1314097616  0.000075\n",
      "1     34                China         1138  1371920000  0.000083\n",
      "2     74            Indonesia          215   255741973  0.000084\n",
      "3    180           Uzbekistan           29    31290791  0.000093\n",
      "4     53             Ethiopia          105    98148000  0.000107\n",
      "5     86         Korea, North           39    24983000  0.000156\n",
      "6    185               Zambia           26    15473900  0.000168\n",
      "7    166             Thailand          112    65121250  0.000172\n",
      "8     38  Congo, Dem. Rep. of          142    73340200  0.000194\n",
      "9     13           Bangladesh          324   160411000  0.000202\n"
     ]
    },
    {
     "data": {
      "image/png": "[encoded data removed]",
      "text/plain": [
       "<matplotlib.figure.Figure at 0x111e017f0>"
      ]
     },
     "metadata": {},
     "output_type": "display_data"
    }
   ],
   "source": [
    "# 10 lowest-ranked countries in terms of number of politician articles as a proportion of country population\n",
    "viz2 = df_articles_per_population.sort_values(by=['percent'], ascending=[1]).head(10).reset_index()\n",
    "print(viz2)\n",
    "fig = plt.figure(figsize=(17,8))\n",
    "plt.xticks(fontsize=10)  \n",
    "plt.yticks(fontsize=10) \n",
    "ax = fig.add_subplot(111)\n",
    "ax.bar(viz2.index, viz2.percent, width=0.8, color = 'r')\n",
    "ax.set_xticks(viz2.index)\n",
    "ax.set_xticklabels(viz2.country)\n",
    "ax.set_xlabel(\"Countries\", fontsize=10)\n",
    "ax.set_ylabel(\"Percentage\", fontsize=10)\n",
    "ax.set_title(\"Lowest-ranked countries in terms of number of politician articles as a proportion of country population\", fontsize=10)\n",
    "plt.show()\n",
    "# Generate a .png formatted image of the final graph\n",
    "fig.savefig('lowest_ranked_countries_number_of_politians_per_article.png')"
   ]
  },
  {
   "cell_type": "markdown",
   "metadata": {},
   "source": [
    "#### 10 highest-ranked countries in terms of number of GA and FA-quality articles as a proportion of all articles about politicians from that country"
   ]
  },
  {
   "cell_type": "code",
   "execution_count": 10,
   "metadata": {
    "collapsed": false
   },
   "outputs": [
    {
     "name": "stdout",
     "output_type": "stream",
     "text": [
      "   index                   country    percent\n",
      "0     68              Korea, North  23.076923\n",
      "1    113              Saudi Arabia  11.764706\n",
      "2    142                Uzbekistan  10.344828\n",
      "3     23  Central African Republic  10.294118\n",
      "4    110                   Romania   9.770115\n",
      "5     52             Guinea-Bissau   9.523810\n",
      "6     12                    Bhutan   9.090909\n",
      "7    145                   Vietnam   8.376963\n",
      "8     35                  Dominica   8.333333\n",
      "9     86                Mauritania   7.692308\n"
     ]
    },
    {
     "data": {
      "image/png": "[encoded data removed]",
      "text/plain": [
       "<matplotlib.figure.Figure at 0x112dc7e10>"
      ]
     },
     "metadata": {},
     "output_type": "display_data"
    }
   ],
   "source": [
    "# highest-ranked countries in terms of number of GA and FA-quality articles as a proportion of all articles about politicians from that country\n",
    "viz3 = df_high_quality.sort_values(by=['percent'], ascending=[0]).head(10).reset_index()\n",
    "print(viz3)\n",
    "fig = plt.figure(figsize=(17,8))\n",
    "plt.xticks(fontsize=9)  \n",
    "plt.yticks(fontsize=9) \n",
    "ax = fig.add_subplot(111)\n",
    "ax.bar(viz3.index, viz3.percent, width=0.8)\n",
    "ax.set_xticks(viz3.index)\n",
    "ax.set_xticklabels(viz3.country)\n",
    "ax.set_xlabel(\"Countries\", fontsize=10)\n",
    "ax.set_ylabel(\"Percentage\", fontsize=10)\n",
    "ax.set_title(\"Highest-ranked countries in terms of number of GA and FA-quality articles as a proportion of all articles about politicians from that country\", fontsize=10)\n",
    "plt.show()\n",
    "# Generate a .png formatted image of the final graph\n",
    "fig.savefig('highest_ranked_countries_aritcle_qualitywise.png')"
   ]
  },
  {
   "cell_type": "markdown",
   "metadata": {},
   "source": [
    "#### 10 lowest-ranked countries in terms of number of GA and FA-quality articles as a proportion of all articles about politicians from that country"
   ]
  },
  {
   "cell_type": "code",
   "execution_count": 11,
   "metadata": {
    "collapsed": false
   },
   "outputs": [
    {
     "name": "stdout",
     "output_type": "stream",
     "text": [
      "   index         country   percent\n",
      "0    129        Tanzania  0.245098\n",
      "1     33  Czech Republic  0.393701\n",
      "2     78       Lithuania  0.403226\n",
      "3     91         Morocco  0.480769\n",
      "4     42            Fiji  0.502513\n",
      "5    136          Uganda  0.531915\n",
      "6     13         Bolivia  0.534759\n",
      "7     79      Luxembourg  0.555556\n",
      "8    105            Peru  0.564972\n",
      "9    116    Sierra Leone  0.602410\n"
     ]
    },
    {
     "data": {
      "image/png": "[encoded data removed]",
      "text/plain": [
       "<matplotlib.figure.Figure at 0x112e3b080>"
      ]
     },
     "metadata": {},
     "output_type": "display_data"
    }
   ],
   "source": [
    "# lowest-ranked countries in terms of number of GA and FA-quality articles as a proportion of all articles about politicians from that country\n",
    "viz4 = df_high_quality.sort_values(by=['percent'], ascending=[1]).head(10).reset_index()\n",
    "print(viz4)\n",
    "fig = plt.figure(figsize=(17,8))\n",
    "plt.xticks(fontsize=10)  \n",
    "plt.yticks(fontsize=10) \n",
    "ax = fig.add_subplot(111)\n",
    "ax.bar(viz4.index, viz4.percent, width=0.8, color = 'r')\n",
    "ax.set_xticks(viz4.index)\n",
    "ax.set_xticklabels(viz4.country)\n",
    "ax.set_xlabel(\"Countries\", fontsize=10)\n",
    "ax.set_ylabel(\"Percentage\", fontsize=10)\n",
    "ax.set_title(\"Lowest-ranked countries in terms of number of GA and FA-quality articles as a proportion of all articles about politicians from that country\", fontsize=10)\n",
    "plt.show()\n",
    "fig.savefig('lowestest_ranked_countries_aritcle_qualitywise.png')"
   ]
  },
  {
   "cell_type": "code",
   "execution_count": null,
   "metadata": {
    "collapsed": true
   },
   "outputs": [],
   "source": []
  }
 ],
 "metadata": {
  "kernelspec": {
   "display_name": "Python [default]",
   "language": "python",
   "name": "python3"
  },
  "language_info": {
   "codemirror_mode": {
    "name": "ipython",
    "version": 3
   },
   "file_extension": ".py",
   "mimetype": "text/x-python",
   "name": "python",
   "nbconvert_exporter": "python",
   "pygments_lexer": "ipython3",
   "version": "3.5.2"
  }
 },
 "nbformat": 4,
 "nbformat_minor": 2
}
